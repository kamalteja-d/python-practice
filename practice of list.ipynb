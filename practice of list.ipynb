{
 "cells": [
  {
   "cell_type": "code",
   "execution_count": null,
   "metadata": {},
   "outputs": [],
   "source": [
    "#Taking 10 inputs from user and printing it \n",
    "\n",
    "a = []\n",
    "\n",
    "\n",
    "for e in range(10):\n",
    "\n",
    " num = input('enter')\n",
    "\n",
    " a.append(num)\n",
    "\n",
    " print(a) "
   ]
  },
  {
   "cell_type": "code",
   "execution_count": 12,
   "metadata": {},
   "outputs": [],
   "source": [
    "i = 10\n",
    "while i<10:\n",
    "\n",
    " a = []\n",
    "\n",
    " num = input('enter ip')\n",
    " \n",
    " a.append(num)\n",
    "\n",
    " print(a[i])\n",
    "\n",
    " i += 1"
   ]
  }
 ],
 "metadata": {
  "interpreter": {
   "hash": "004de6046f1b3d314f33fdb43a2dc798b2646e5600efd8df5066c8b63a00ff6d"
  },
  "kernelspec": {
   "display_name": "Python 3.8.2 64-bit",
   "language": "python",
   "name": "python3"
  },
  "language_info": {
   "codemirror_mode": {
    "name": "ipython",
    "version": 3
   },
   "file_extension": ".py",
   "mimetype": "text/x-python",
   "name": "python",
   "nbconvert_exporter": "python",
   "pygments_lexer": "ipython3",
   "version": "3.8.2"
  },
  "orig_nbformat": 4
 },
 "nbformat": 4,
 "nbformat_minor": 2
}
