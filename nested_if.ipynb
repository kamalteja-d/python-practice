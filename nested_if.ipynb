{
 "cells": [
  {
   "cell_type": "code",
   "execution_count": 4,
   "metadata": {},
   "outputs": [
    {
     "name": "stdout",
     "output_type": "stream",
     "text": [
      "kamal\n"
     ]
    }
   ],
   "source": [
    "a= \"kamal\"\n",
    "print(a)"
   ]
  },
  {
   "cell_type": "code",
   "execution_count": 5,
   "metadata": {},
   "outputs": [
    {
     "name": "stdout",
     "output_type": "stream",
     "text": [
      "come back again umar\n"
     ]
    }
   ],
   "source": [
    "person=input(\"who is it \\n\")\n",
    "\n",
    "if person==\"kamal\":\n",
    "    print(person)\n",
    "    print(\"open the door and give water \")\n",
    "\n",
    "    want=input(\"what do you want\")\n",
    "    if want == \"money\":\n",
    "        print(\"give 2000/-\")\n",
    "else:\n",
    "    print(\"come back again\",person)\n"
   ]
  }
 ],
 "metadata": {
  "interpreter": {
   "hash": "004de6046f1b3d314f33fdb43a2dc798b2646e5600efd8df5066c8b63a00ff6d"
  },
  "kernelspec": {
   "display_name": "Python 3.8.2 64-bit",
   "language": "python",
   "name": "python3"
  },
  "language_info": {
   "codemirror_mode": {
    "name": "ipython",
    "version": 3
   },
   "file_extension": ".py",
   "mimetype": "text/x-python",
   "name": "python",
   "nbconvert_exporter": "python",
   "pygments_lexer": "ipython3",
   "version": "3.8.2"
  },
  "orig_nbformat": 4
 },
 "nbformat": 4,
 "nbformat_minor": 2
}
