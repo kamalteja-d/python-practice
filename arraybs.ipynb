{
 "cells": [
  {
   "cell_type": "code",
   "execution_count": 1,
   "metadata": {},
   "outputs": [
    {
     "name": "stdout",
     "output_type": "stream",
     "text": [
      "array('i', [5, 8, 6, 9])\n"
     ]
    }
   ],
   "source": [
    "# array concept import array \n",
    "\n",
    "from array import*\n",
    "\n",
    "mat = array('i',[5,8,6,9])\n",
    "\n",
    "print(mat)"
   ]
  },
  {
   "cell_type": "code",
   "execution_count": null,
   "metadata": {},
   "outputs": [],
   "source": [
    "from array import*\n",
    " \n",
    "mat = array('u',['a','b','c','d'])\n",
    "\n",
    "for i in range(len(mat)):\n",
    "    print(mat[i])\n"
   ]
  },
  {
   "cell_type": "code",
   "execution_count": 12,
   "metadata": {},
   "outputs": [
    {
     "name": "stdout",
     "output_type": "stream",
     "text": [
      "array('i', [1, 25, 7225, 9409])\n"
     ]
    }
   ],
   "source": [
    "from array import*\n",
    "\n",
    "car = array('i',[1,5,85,97])\n",
    "\n",
    "toy = array(car.typecode,[a for a in car])\n",
    "\n",
    "print(toy)"
   ]
  },
  {
   "cell_type": "markdown",
   "metadata": {},
   "source": [
    "creating a New Array or varible \n",
    "Assigning previous values to it "
   ]
  }
 ],
 "metadata": {
  "interpreter": {
   "hash": "004de6046f1b3d314f33fdb43a2dc798b2646e5600efd8df5066c8b63a00ff6d"
  },
  "kernelspec": {
   "display_name": "Python 3.8.2 64-bit",
   "language": "python",
   "name": "python3"
  },
  "language_info": {
   "codemirror_mode": {
    "name": "ipython",
    "version": 3
   },
   "file_extension": ".py",
   "mimetype": "text/x-python",
   "name": "python",
   "nbconvert_exporter": "python",
   "pygments_lexer": "ipython3",
   "version": "3.8.2"
  },
  "orig_nbformat": 4
 },
 "nbformat": 4,
 "nbformat_minor": 2
}
