{
 "cells": [
  {
   "cell_type": "code",
   "execution_count": null,
   "metadata": {},
   "outputs": [],
   "source": [
    "# Creating table by while loop\n",
    "\n",
    "num = int(input(\"choose the no\"))\n",
    "\n",
    "i = 1\n",
    "while i<11:\n",
    "  c = num*i\n",
    "  print(num,'x',i,'=',c)\n",
    "  \n",
    "  i += 1"
   ]
  },
  {
   "cell_type": "code",
   "execution_count": null,
   "metadata": {},
   "outputs": [],
   "source": [
    "# getting name in a single line \n",
    "\n",
    "i = 1\n",
    "\n",
    "while i<=4:\n",
    "  print(\"kamal\",end=\"\")\n",
    "  j = 1\n",
    "  while j<=3:\n",
    "     print(\"teja\",end=\"\")\n",
    "     j += 1\n",
    "\n",
    " \n",
    "  i += 1\n",
    "  print()"
   ]
  }
 ],
 "metadata": {
  "interpreter": {
   "hash": "004de6046f1b3d314f33fdb43a2dc798b2646e5600efd8df5066c8b63a00ff6d"
  },
  "kernelspec": {
   "display_name": "Python 3.8.2 64-bit",
   "language": "python",
   "name": "python3"
  },
  "language_info": {
   "codemirror_mode": {
    "name": "ipython",
    "version": 3
   },
   "file_extension": ".py",
   "mimetype": "text/x-python",
   "name": "python",
   "nbconvert_exporter": "python",
   "pygments_lexer": "ipython3",
   "version": "3.8.2"
  },
  "orig_nbformat": 4
 },
 "nbformat": 4,
 "nbformat_minor": 2
}
